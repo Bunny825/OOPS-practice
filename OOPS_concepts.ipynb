{
  "nbformat": 4,
  "nbformat_minor": 0,
  "metadata": {
    "colab": {
      "provenance": [],
      "authorship_tag": "ABX9TyOme71j5iVol3E2LMKWHsSN",
      "include_colab_link": true
    },
    "kernelspec": {
      "name": "python3",
      "display_name": "Python 3"
    },
    "language_info": {
      "name": "python"
    }
  },
  "cells": [
    {
      "cell_type": "markdown",
      "metadata": {
        "id": "view-in-github",
        "colab_type": "text"
      },
      "source": [
        "<a href=\"https://colab.research.google.com/github/Bunny825/OOPS-practice/blob/main/OOPS_concepts.ipynb\" target=\"_parent\"><img src=\"https://colab.research.google.com/assets/colab-badge.svg\" alt=\"Open In Colab\"/></a>"
      ]
    },
    {
      "cell_type": "code",
      "execution_count": 1,
      "metadata": {
        "id": "hkEzt619Ez7d"
      },
      "outputs": [],
      "source": [
        "#practicing the oops concepts from krish naik's course"
      ]
    },
    {
      "cell_type": "code",
      "source": [
        "class dog:\n",
        "  def __init__(self,name,age):\n",
        "    self.name=name\n",
        "    self.age=age\n",
        "\n",
        "dog1=dog(\"chintu\",5)\n",
        "print(dog1)\n",
        "print(dog1.name)\n",
        "print(dog1.age)"
      ],
      "metadata": {
        "colab": {
          "base_uri": "https://localhost:8080/"
        },
        "id": "SNRAj3SeFN9W",
        "outputId": "07a8dc95-b992-4691-9194-90a446460d4a"
      },
      "execution_count": 2,
      "outputs": [
        {
          "output_type": "stream",
          "name": "stdout",
          "text": [
            "<__main__.dog object at 0x7f77c8360250>\n",
            "chintu\n",
            "5\n"
          ]
        }
      ]
    },
    {
      "cell_type": "code",
      "source": [
        "#a class to describe the working of the bank account and the system there\n",
        "class bankaccount:\n",
        "  def __init__(self,owner,balance=0):\n",
        "    self.owner=owner\n",
        "    self.balance=balance\n",
        "  def deposit(self,amount):\n",
        "    self.balance+=amount\n",
        "    print(f\"{amount} is added and now the balance is {self.balance}\")\n",
        "\n",
        "  def withdraw(self,amount):\n",
        "    if self.balance<amount:\n",
        "      print(\"insufficient funds\")\n",
        "    else:\n",
        "      self.balance-=amount\n",
        "      print(f\"{amount} has been withdrawn and the balance is {self.balance}\")\n",
        "\n",
        "account=bankaccount(\"baladitya sai\")\n",
        "account.deposit(1000)\n",
        "print(account.balance)"
      ],
      "metadata": {
        "colab": {
          "base_uri": "https://localhost:8080/"
        },
        "id": "WGhCh1zoF5uY",
        "outputId": "97d0b9c8-a58e-4273-dd10-9837ef84d9b8"
      },
      "execution_count": 4,
      "outputs": [
        {
          "output_type": "stream",
          "name": "stdout",
          "text": [
            "1000 is added and now the balance is 1000\n",
            "1000\n"
          ]
        }
      ]
    },
    {
      "cell_type": "markdown",
      "source": [
        "INHERITANCE"
      ],
      "metadata": {
        "id": "IuTuD-2vHrJH"
      }
    },
    {
      "cell_type": "code",
      "source": [
        "# Base class\n",
        "class Pet:\n",
        "    def __init__(self, owner):\n",
        "        self.owner = owner\n",
        "\n",
        "# Derived class\n",
        "class Dog(Pet):\n",
        "    def __init__(self, owner, breed):\n",
        "        super().__init__(owner)  # Properly calling the parent class constructor\n",
        "        self.breed = breed\n",
        "\n",
        "# Creating an object of Dog\n",
        "doggy = Dog(\"bala\", \"golden retriever\")\n",
        "\n",
        "# Checking the attributes\n",
        "print(doggy.owner)\n",
        "print(doggy.breed)\n"
      ],
      "metadata": {
        "colab": {
          "base_uri": "https://localhost:8080/"
        },
        "id": "rGgslFC_HfME",
        "outputId": "957e00da-a27c-4f3a-aae3-f17ab610ab40"
      },
      "execution_count": 6,
      "outputs": [
        {
          "output_type": "stream",
          "name": "stdout",
          "text": [
            "bala\n",
            "golden retriever\n"
          ]
        }
      ]
    },
    {
      "cell_type": "markdown",
      "source": [
        "**MAGIC METHODS**"
      ],
      "metadata": {
        "id": "FXRDCXZnJ-EC"
      }
    },
    {
      "cell_type": "code",
      "source": [
        "dir(bankaccount)"
      ],
      "metadata": {
        "colab": {
          "base_uri": "https://localhost:8080/"
        },
        "id": "91Y2ZRBIJLrH",
        "outputId": "2e557e33-41b0-4d7a-b8d9-4e3dab7abe35"
      },
      "execution_count": 7,
      "outputs": [
        {
          "output_type": "execute_result",
          "data": {
            "text/plain": [
              "['__class__',\n",
              " '__delattr__',\n",
              " '__dict__',\n",
              " '__dir__',\n",
              " '__doc__',\n",
              " '__eq__',\n",
              " '__format__',\n",
              " '__ge__',\n",
              " '__getattribute__',\n",
              " '__getstate__',\n",
              " '__gt__',\n",
              " '__hash__',\n",
              " '__init__',\n",
              " '__init_subclass__',\n",
              " '__le__',\n",
              " '__lt__',\n",
              " '__module__',\n",
              " '__ne__',\n",
              " '__new__',\n",
              " '__reduce__',\n",
              " '__reduce_ex__',\n",
              " '__repr__',\n",
              " '__setattr__',\n",
              " '__sizeof__',\n",
              " '__str__',\n",
              " '__subclasshook__',\n",
              " '__weakref__',\n",
              " 'deposit',\n",
              " 'withdraw']"
            ]
          },
          "metadata": {},
          "execution_count": 7
        }
      ]
    },
    {
      "cell_type": "code",
      "source": [
        "class person:\n",
        "  def __init__(self,name,age):\n",
        "    self.name=name\n",
        "    self.age=age\n",
        "\n",
        "  def __str__(self):\n",
        "    return f\"{self.name} is {self.age} years old\"\n",
        "\n",
        "  def __repr__(self):\n",
        "    return f\"person(name={self.name},age={self.age})\"\n",
        "\n",
        "man=person(\"bala\",20)\n",
        "print(man)\n",
        "#previous;y if ypu ujse the print(object) then we would get the output as the address of the object and now have changed it with the mahic method __str__\n",
        "print(repr(man))"
      ],
      "metadata": {
        "colab": {
          "base_uri": "https://localhost:8080/"
        },
        "id": "8DV7c5MxJ0xw",
        "outputId": "c934b8b1-605d-4e7a-eef0-4f51547db83c"
      },
      "execution_count": 14,
      "outputs": [
        {
          "output_type": "stream",
          "name": "stdout",
          "text": [
            "bala is 20 years old\n",
            "person(name=bala,age=20)\n"
          ]
        }
      ]
    },
    {
      "cell_type": "markdown",
      "source": [
        "Operator overloading"
      ],
      "metadata": {
        "id": "UuPhHXSkLnQE"
      }
    },
    {
      "cell_type": "code",
      "source": [
        "class vector:\n",
        "  def __init__(self,x,y):\n",
        "    self.x=x\n",
        "    self.y=y\n",
        "\n",
        "  def __add__(self,other):\n",
        "    return vector(self.x+other.x,self.y+other.y)\n",
        "\n",
        "  def __sub__(self,other):\n",
        "    return vector(self.x-other.x,self.y-other.y)\n",
        "\n",
        "  def __mul__(self,other):\n",
        "    return vector(self.x*other.x,self.y*other.y)\n",
        "\n",
        "  def __eq__(self,other):\n",
        "    return self.x==other.x and self.y==other.y\n",
        "\n",
        "  def __repr__(self):\n",
        "    return f\"vector({self.x},{self.y})\"\n",
        "\n",
        "a=vector(7,8)\n",
        "b=vector(2,3)\n",
        "print(a+b)\n",
        "print(a-b)\n",
        "print(a*b)\n",
        "print(a==b)\n",
        "print(a)"
      ],
      "metadata": {
        "colab": {
          "base_uri": "https://localhost:8080/"
        },
        "id": "YYxrBC3cKt-u",
        "outputId": "8f2ca0a6-fe6d-41df-b948-fc18e30328d9"
      },
      "execution_count": 16,
      "outputs": [
        {
          "output_type": "stream",
          "name": "stdout",
          "text": [
            "vector(9,11)\n",
            "vector(5,5)\n",
            "vector(14,24)\n",
            "False\n",
            "vector(7,8)\n"
          ]
        }
      ]
    },
    {
      "cell_type": "code",
      "source": [],
      "metadata": {
        "id": "90Em51GSLLob"
      },
      "execution_count": null,
      "outputs": []
    }
  ]
}